{
 "cells": [
  {
   "cell_type": "code",
   "execution_count": 1,
   "metadata": {},
   "outputs": [
    {
     "name": "stdout",
     "output_type": "stream",
     "text": [
      "Enter the max elements\n",
      "1\n",
      "2\n",
      "3\n",
      "4\n",
      "5\n",
      "6\n",
      "7\n",
      "8\n",
      "9\n",
      "10\n"
     ]
    }
   ],
   "source": [
    "print(\"Enter the max elements\")\n",
    "max=int(input())\n",
    "\n",
    "arr=[]\n",
    "\n",
    "for i in range(max):\n",
    "    element=int(input())\n",
    "    arr.append(element)\n",
    "\n",
    "for i in range(max):\n",
    "    print(arr[i])"
   ]
  },
  {
   "cell_type": "code",
   "execution_count": 4,
   "metadata": {},
   "outputs": [
    {
     "name": "stdout",
     "output_type": "stream",
     "text": [
      "[[0, 0, 0], [0, 0, 0], [0, 0, 0]]\n",
      "[[0, 0, 0], [0, 1, 2], [0, 2, 4]]\n"
     ]
    }
   ],
   "source": [
    "row=3\n",
    "col=3\n",
    "\n",
    "arr=[[0 for col_num in range(col)] for row_num in range(row) ]\n",
    "\n",
    "print(arr)\n",
    "\n",
    "for i in range(row):\n",
    "    for j in range(col):\n",
    "        arr[i][j]=i*j\n",
    "\n",
    "print(arr)"
   ]
  },
  {
   "cell_type": "code",
   "execution_count": null,
   "metadata": {},
   "outputs": [],
   "source": []
  }
 ],
 "metadata": {
  "kernelspec": {
   "display_name": "Python 3.7.8 32-bit",
   "language": "python",
   "name": "python3"
  },
  "language_info": {
   "codemirror_mode": {
    "name": "ipython",
    "version": 3
   },
   "file_extension": ".py",
   "mimetype": "text/x-python",
   "name": "python",
   "nbconvert_exporter": "python",
   "pygments_lexer": "ipython3",
   "version": "3.7.8"
  },
  "orig_nbformat": 4,
  "vscode": {
   "interpreter": {
    "hash": "00d97ca72b701e15edcc477f512b1aaa24555d9edac289093a3b05447db8b434"
   }
  }
 },
 "nbformat": 4,
 "nbformat_minor": 2
}
