{
 "cells": [
  {
   "cell_type": "markdown",
   "metadata": {},
   "source": [
    "Queue in Python"
   ]
  },
  {
   "cell_type": "markdown",
   "metadata": {},
   "source": [
    "Like stack, queue is a linear data structure that stores items in First In First Out (FIFO) manner. With a queue the least recently added item is removed first. A good example of queue is any queue of consumers for a resource where the consumer that came first is served first.\n",
    " \n",
    "\n",
    "Queue in Python\n",
    "\n",
    "Operations associated with queue are: \n",
    " \n",
    "\n",
    "Enqueue: Adds an item to the queue. If the queue is full, then it is said to be an Overflow condition – Time Complexity : O(1)\n",
    "Dequeue: Removes an item from the queue. The items are popped in the same order in which they are pushed. If the queue is empty, then it is said to be an Underflow condition – Time Complexity : O(1)\n",
    "Front: Get the front item from queue – Time Complexity : O(1)\n",
    "Rear: Get the last item from queue – Time Complexity : O(1)"
   ]
  },
  {
   "cell_type": "markdown",
   "metadata": {},
   "source": [
    "Implementation using list\n",
    "List is a Python’s built-in data structure that can be used as a queue. Instead of enqueue() and dequeue(), append() and pop() function is used. However, lists are quite slow for this purpose because inserting or deleting an element at the beginning requires shifting all of the other elements by one, requiring O(n) time."
   ]
  },
  {
   "cell_type": "code",
   "execution_count": 1,
   "metadata": {},
   "outputs": [
    {
     "name": "stdout",
     "output_type": "stream",
     "text": [
      "Initial queue\n",
      "['a', 'b', 'c']\n",
      "\n",
      "Elements dequeued from queue\n",
      "a\n",
      "b\n",
      "c\n",
      "\n",
      "Queue after removing elements\n",
      "[]\n"
     ]
    }
   ],
   "source": [
    "# Python program to \n",
    "# demonstrate queue implementation\n",
    "# using list\n",
    "  \n",
    "# Initializing a queue\n",
    "queue = []\n",
    "  \n",
    "# Adding elements to the queue\n",
    "queue.append('a')\n",
    "queue.append('b')\n",
    "queue.append('c')\n",
    "  \n",
    "print(\"Initial queue\")\n",
    "print(queue)\n",
    "  \n",
    "# Removing elements from the queue\n",
    "print(\"\\nElements dequeued from queue\")\n",
    "print(queue.pop(0))\n",
    "print(queue.pop(0))\n",
    "print(queue.pop(0))\n",
    "  \n",
    "print(\"\\nQueue after removing elements\")\n",
    "print(queue)\n",
    "  \n",
    "# Uncommenting print(queue.pop(0))\n",
    "# will raise and IndexError\n",
    "# as the queue is now empty"
   ]
  },
  {
   "cell_type": "markdown",
   "metadata": {},
   "source": [
    "Implementation using collections.deque\n",
    "Queue in Python can be implemented using deque class from the collections module. Deque is preferred over list in the cases where we need quicker append and pop operations from both the ends of container, as deque provides an O(1) time complexity for append and pop operations as compared to list which provides O(n) time complexity. Instead of enqueue and deque, append() and popleft() functions are used."
   ]
  },
  {
   "cell_type": "code",
   "execution_count": 2,
   "metadata": {},
   "outputs": [
    {
     "name": "stdout",
     "output_type": "stream",
     "text": [
      "Initial queue\n",
      "deque(['a', 'b', 'c'])\n",
      "\n",
      "Elements dequeued from the queue\n",
      "a\n",
      "b\n",
      "c\n",
      "\n",
      "Queue after removing elements\n",
      "deque([])\n"
     ]
    }
   ],
   "source": [
    "# Python program to\n",
    "# demonstrate queue implementation\n",
    "# using collections.dequeue\n",
    "  \n",
    "  \n",
    "from collections import deque\n",
    "  \n",
    "# Initializing a queue\n",
    "q = deque()\n",
    "  \n",
    "# Adding elements to a queue\n",
    "q.append('a')\n",
    "q.append('b')\n",
    "q.append('c')\n",
    "  \n",
    "print(\"Initial queue\")\n",
    "print(q)\n",
    "  \n",
    "# Removing elements from a queue\n",
    "print(\"\\nElements dequeued from the queue\")\n",
    "print(q.popleft())\n",
    "print(q.popleft())\n",
    "print(q.popleft())\n",
    "  \n",
    "print(\"\\nQueue after removing elements\")\n",
    "print(q)\n",
    "  \n",
    "# Uncommenting q.popleft()\n",
    "# will raise an IndexError\n",
    "# as queue is now empty"
   ]
  },
  {
   "cell_type": "markdown",
   "metadata": {},
   "source": [
    "Implementation using queue.Queue\n",
    "Queue is built-in module of Python which is used to implement a queue. queue.Queue(maxsize) initializes a variable to a maximum size of maxsize. A maxsize of zero ‘0’ means a infinite queue. This Queue follows FIFO rule. \n",
    "There are various functions available in this module: \n",
    " \n",
    "\n",
    "maxsize – Number of items allowed in the queue.\n",
    "empty() – Return True if the queue is empty, False otherwise.\n",
    "full() – Return True if there are maxsize items in the queue. If the queue was initialized with maxsize=0 (the default), then full() never returns True.\n",
    "get() – Remove and return an item from the queue. If queue is empty, wait until an item is available.\n",
    "get_nowait() – Return an item if one is immediately available, else raise QueueEmpty.\n",
    "put(item) – Put an item into the queue. If the queue is full, wait until a free slot is available before adding the item.\n",
    "put_nowait(item) – Put an item into the queue without blocking. If no free slot is immediately available, raise QueueFull.\n",
    "qsize() – Return the number of items in the queue."
   ]
  },
  {
   "cell_type": "code",
   "execution_count": 3,
   "metadata": {},
   "outputs": [
    {
     "name": "stdout",
     "output_type": "stream",
     "text": [
      "0\n",
      "\n",
      "Full:  True\n",
      "\n",
      "Elements dequeued from the queue\n",
      "a\n",
      "b\n",
      "c\n",
      "\n",
      "Empty:  True\n",
      "\n",
      "Empty:  False\n",
      "Full:  False\n"
     ]
    }
   ],
   "source": [
    "# Python program to\n",
    "# demonstrate implementation of\n",
    "# queue using queue module\n",
    "  \n",
    "  \n",
    "from queue import Queue\n",
    "  \n",
    "# Initializing a queue\n",
    "q = Queue(maxsize = 3)\n",
    "  \n",
    "# qsize() give the maxsize \n",
    "# of the Queue \n",
    "print(q.qsize()) \n",
    "  \n",
    "# Adding of element to queue\n",
    "q.put('a')\n",
    "q.put('b')\n",
    "q.put('c')\n",
    "  \n",
    "# Return Boolean for Full \n",
    "# Queue \n",
    "print(\"\\nFull: \", q.full()) \n",
    "  \n",
    "# Removing element from queue\n",
    "print(\"\\nElements dequeued from the queue\")\n",
    "print(q.get())\n",
    "print(q.get())\n",
    "print(q.get())\n",
    "  \n",
    "# Return Boolean for Empty \n",
    "# Queue \n",
    "print(\"\\nEmpty: \", q.empty())\n",
    "  \n",
    "q.put(1)\n",
    "print(\"\\nEmpty: \", q.empty()) \n",
    "print(\"Full: \", q.full())\n",
    "  \n",
    "# This would result into Infinite \n",
    "# Loop as the Queue is empty. \n",
    "# print(q.get())"
   ]
  }
 ],
 "metadata": {
  "kernelspec": {
   "display_name": "Python 3.7.8 32-bit",
   "language": "python",
   "name": "python3"
  },
  "language_info": {
   "codemirror_mode": {
    "name": "ipython",
    "version": 3
   },
   "file_extension": ".py",
   "mimetype": "text/x-python",
   "name": "python",
   "nbconvert_exporter": "python",
   "pygments_lexer": "ipython3",
   "version": "3.7.8"
  },
  "orig_nbformat": 4,
  "vscode": {
   "interpreter": {
    "hash": "00d97ca72b701e15edcc477f512b1aaa24555d9edac289093a3b05447db8b434"
   }
  }
 },
 "nbformat": 4,
 "nbformat_minor": 2
}
